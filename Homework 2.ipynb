{
 "cells": [
  {
   "cell_type": "markdown",
   "id": "40a80d56",
   "metadata": {},
   "source": [
    "The goal of the homework is to study, based on actual production data, the notion of \"peak oil\" introduced in lecture 1"
   ]
  },
  {
   "cell_type": "markdown",
   "id": "c3f322b6",
   "metadata": {},
   "source": [
    "#### Administrativia\n",
    "Groups composition to be provided no later than Wednesday, Sep. 25, 8 PM (by email)\\\n",
    "GROUPS SHALL DIFFER IN MEMBERSHIP FROM HOMEWORK #1\\\n",
    "Homework to be turned in Thursday, Oct. 3, 10 PM (deposit .ipynb file in Moodle / General Informations, only 1 submission per group)\\\n",
    "Please indicate here the names of the group's members:"
   ]
  },
  {
   "cell_type": "markdown",
   "id": "3465944f",
   "metadata": {},
   "source": [
    "#### Data set\n",
    "One CSV file, Oil_production.csv taken from https://www.energyinst.org/statistical-review/resources-and-data-downloads \\\n",
    "Description: crude oil production in million tonnes by country/region (col.A) and year\\\n",
    "NOTE: this is a good example of using \"real world\" imperfect data sets which have not been prepared for machine processing\\\n",
    "IMPORTANT: Your program shall take as input this csv file, without manual cleaning/preparation"
   ]
  },
  {
   "cell_type": "code",
   "execution_count": 68,
   "id": "a9717f3b",
   "metadata": {},
   "outputs": [],
   "source": [
    "import pandas as pd\n",
    "import numpy as np"
   ]
  },
  {
   "cell_type": "markdown",
   "id": "a1213360",
   "metadata": {},
   "source": [
    "#### Data preparation\n",
    "Study the data set and identify what cleanup/preparation steps are needed \\\n",
    "Remove all \"Total\" lines and remove USSR (it appears after the 1991 breakup as its member countries)"
   ]
  },
  {
   "cell_type": "code",
   "execution_count": 69,
   "id": "7d134973",
   "metadata": {},
   "outputs": [
    {
     "name": "stdout",
     "output_type": "stream",
     "text": [
      "            1965   1966   1967   1968   1969   1970   1971   1972   1973  \\\n",
      "Country                                                                    \n",
      "Canada      43,9   48,2   52,7   57,1   62,2   70,1   75,2   86,7  100,3   \n",
      "Mexico      18,1   18,5   20,5   21,9     23   24,2   24,1   25,1   25,9   \n",
      "US         427,7  454,5  484,2  502,9  511,4  533,5  525,9  527,9  514,7   \n",
      "Argentina   13,8   14,6     16   17,5   18,1     20   21,6   22,2   21,6   \n",
      "Brazil         5    6,2    7,8    8,5    9,3    8,8    9,2      9    9,2   \n",
      "\n",
      "            1974  ...   2017   2018   2019   2020   2021   2022   2023  \\\n",
      "Country           ...                                                    \n",
      "Canada      94,4  ...  236,6  257,7  263,5    252  266,6  273,9  277,9   \n",
      "Mexico      32,4  ...  109,5  102,3   94,9   95,1   96,4   97,6  102,5   \n",
      "US         491,4  ...  574,2  669,6    751  713,3  715,9  762,1  827,1   \n",
      "Argentina   21,1  ...   27,3   27,6   33,8   33,7   37,6   45,4   51,2   \n",
      "Brazil       9,6  ...  142,6  140,6  151,2  159,3  156,9  163,2  183,7   \n",
      "\n",
      "           2023.1 2013-23  2023.2  \n",
      "Country                            \n",
      "Canada      1,43%   3,60%   6,20%  \n",
      "Mexico      5,02%  -3,20%   2,30%  \n",
      "US          8,54%   6,30%  18,30%  \n",
      "Argentina  12,98%   5,40%   1,10%  \n",
      "Brazil     12,55%   5,20%   4,10%  \n",
      "\n",
      "[5 rows x 62 columns]\n",
      "                    1965  1966  1967  1968  1969  1970 1971  1972  1973  1974  \\\n",
      "Country                                                                         \n",
      "Indonesia           24,5  23,9  25,7  30,3  32,4  43,1   45  54,7  67,5  69,4   \n",
      "Malaysia               0     0     0   0,2   0,4   0,9  3,3   4,5   4,3   3,9   \n",
      "Thailand             NaN   NaN   NaN   NaN   NaN   NaN  NaN   NaN   NaN   NaN   \n",
      "Vietnam              NaN   NaN   NaN   NaN   NaN   NaN  NaN   NaN   NaN   NaN   \n",
      "Other Asia Pacific   1,7   1,6   1,5   1,7   1,7   1,9    2   2,1   2,2   2,3   \n",
      "\n",
      "                    ...  2017  2018  2019  2020  2021  2022  2023  2023.1  \\\n",
      "Country             ...                                                     \n",
      "Indonesia           ...  40,9  39,5  38,1  36,3  33,7  31,5  31,1  -1,31%   \n",
      "Malaysia            ...  32,9  32,5  30,6    28  25,9  25,3  25,5   0,74%   \n",
      "Thailand            ...  17,6    17  16,9  15,1  13,9  11,5  11,2  -2,41%   \n",
      "Vietnam             ...  13,9  12,4  11,4    10   9,5   9,3     9  -3,18%   \n",
      "Other Asia Pacific  ...    12  10,3  10,1   9,2   8,7   7,5   7,1  -4,96%   \n",
      "\n",
      "                   2013-23 2023.2  \n",
      "Country                            \n",
      "Indonesia           -3,00%  0,70%  \n",
      "Malaysia            -1,20%  0,60%  \n",
      "Thailand            -4,10%  0,20%  \n",
      "Vietnam             -6,10%  0,20%  \n",
      "Other Asia Pacific  -5,00%  0,20%  \n",
      "\n",
      "[5 rows x 62 columns]\n"
     ]
    }
   ],
   "source": [
    "# if everything is correct, the csv will be converted into the dataframe\n",
    "# \";\" is the delimiter, separating rows. First 2 rows are skipped, since they are unnecessary. \n",
    "# The \",\" will count as decimal\n",
    "oildata = pd.read_csv(\"Oil_production.csv\", delimiter=';', skiprows=2, decimal=\",\")\n",
    "# the first column(country names) will count as the index\n",
    "oildata.set_index(oildata.columns[0], inplace=True)\n",
    "# get rid of rows with N/A values. This effectively removes the last text rows\n",
    "oildata = oildata.dropna()\n",
    "# get rid of the USSR row\n",
    "oildata = oildata.drop(\"USSR\")\n",
    "# get rid of rows that have \"total\" in their index's names.\n",
    "oildata = oildata[~oildata.index.str.contains('Total')]\n",
    "# the rows after \"Total World\" didn't get cleaned, so I had to get rid of them by slicing. Crude, but effective\n",
    "oildata = oildata[0:56]\n",
    "# replace \"^\" and \"?\" with 0, since \"^\" and \"?\" represent values and percentages less than 0.05, which are negligible\n",
    "# now how to replace \"-\"? With \"nan\", or with 0? Very difficult question. I guess with NaN. \n",
    "# And countries with NaN values can still be kept, since not all of their values are NaN\n",
    "# besides. This is maths-friendly np.nan, which means that it won't interfere with calculations, ideally\n",
    "oildata.replace(\"^\", 0, inplace=True)\n",
    "oildata.replace(\"-\", np.nan, inplace=True)\n",
    "oildata.replace(\"?\", 0, inplace=True)\n",
    "# print the first five and the last five rows\n",
    "print(oildata.head(5))\n",
    "print(oildata.tail(5))"
   ]
  },
  {
   "cell_type": "markdown",
   "id": "7b1702df",
   "metadata": {},
   "source": [
    "#### Data processing\n",
    "Write a function which takes as input :\n",
    "1. time series (floats)\n",
    "2.   a threshold (float)\n",
    "\n",
    "and returns true if the last two data points of the time series are more than threshold % lower than the maximum value in the series"
   ]
  },
  {
   "cell_type": "code",
   "execution_count": 9,
   "id": "94f6babf",
   "metadata": {},
   "outputs": [],
   "source": [
    "# the series is a list of floating values extracted from the dataframe, corresponding to years 1965-2023\n",
    "# the threshold is a float between 0 and 1. \n",
    "# Higher threshold means that the last two values must be much smaller in order for the function to return \"True\"\n",
    "def has_peaked(series, threshold):\n",
    "    # by default, the boolean is false\n",
    "    bool = False\n",
    "    # checks if the last two points are smaller than the maximum by at least the threshold percentage\n",
    "    # for example, if threshold percentage is 0.2, then we check if the last points are smaller than max*(1-0.2)\n",
    "    if series[-1]< series.max*(1-threshold) and series[-2]<series.max*(1-threshold):\n",
    "        bool = True\n",
    "    return bool\n",
    "# returns bool"
   ]
  },
  {
   "cell_type": "markdown",
   "id": "e8306a80",
   "metadata": {},
   "source": [
    "##### First graph\n",
    "Plot on Y axis the percentage (0 to 1) of all oil-producing countries whose recent production (last 2 years) is more than threshold % lower than their peak as a function of threshold, with threshold ranging from 0 to 100 (X axis)\\\n",
    "How many countries have not peaked yet?"
   ]
  },
  {
   "cell_type": "markdown",
   "id": "ef95835d",
   "metadata": {},
   "source": [
    "#### Second graph\n",
    "Plot a stacked vertical bar graph with each country on the X axis (sorted by decreasing value of the country's maximum production). Each bar displays both the 2023  production and the maximum production (in a lighter color) of the country\\\n",
    "Bonus points if the bar's color encodes the oil-producing region the country belongs to."
   ]
  },
  {
   "cell_type": "code",
   "execution_count": null,
   "id": "114080b8",
   "metadata": {},
   "outputs": [],
   "source": []
  }
 ],
 "metadata": {
  "kernelspec": {
   "display_name": "Python 3 (ipykernel)",
   "language": "python",
   "name": "python3"
  },
  "language_info": {
   "codemirror_mode": {
    "name": "ipython",
    "version": 3
   },
   "file_extension": ".py",
   "mimetype": "text/x-python",
   "name": "python",
   "nbconvert_exporter": "python",
   "pygments_lexer": "ipython3",
   "version": "3.12.3"
  }
 },
 "nbformat": 4,
 "nbformat_minor": 5
}
